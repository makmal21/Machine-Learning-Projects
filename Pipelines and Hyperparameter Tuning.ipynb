{
 "cells": [
  {
   "cell_type": "markdown",
   "id": "92778525",
   "metadata": {},
   "source": [
    "# Pipelines and Hyperparameter Tuning \n"
   ]
  },
  {
   "cell_type": "markdown",
   "id": "ce31b39a",
   "metadata": {},
   "source": [
    "### In this assignment, you will be putting together everything you have learned so far. You will need to find your own dataset, do all the appropriate preprocessing, test different supervised learning models and evaluate the results. More details for each step can be found below.\n",
    "\n",
    "### You will also be asked to describe the process by which you came up with the code. More details can be found below. Please cite any websites or AI tools that you used to help you with this assignment."
   ]
  },
  {
   "cell_type": "markdown",
   "id": "cf275ca7",
   "metadata": {},
   "source": [
    "## Import Libraries"
   ]
  },
  {
   "cell_type": "code",
   "execution_count": 1,
   "id": "2b67a661",
   "metadata": {},
   "outputs": [],
   "source": [
    "import numpy as np\n",
    "import pandas as pd\n",
    "import matplotlib.pyplot as plt\n",
    "import seaborn as sns"
   ]
  },
  {
   "cell_type": "markdown",
   "id": "8219f163",
   "metadata": {},
   "source": [
    "## Step 1: Data Input \n",
    "\n",
    "Import the dataset you will be using. You can download the dataset onto your computer and read it in using pandas, or download it directly from the website. Answer the questions below about the dataset you selected. \n",
    "\n",
    "To find a dataset, you can use the resources listed in the notes. The dataset can be numerical, categorical, text-based or mixed. If you want help finding a particular dataset related to your interests, please email the instructor.\n",
    "\n",
    "**You cannot use a dataset that was used for a previous assignment or in class**"
   ]
  },
  {
   "cell_type": "code",
   "execution_count": 2,
   "id": "2af8bd32",
   "metadata": {},
   "outputs": [
    {
     "name": "stdout",
     "output_type": "stream",
     "text": [
      "X.shape=(8123, 3), type(X)=<class 'pandas.core.frame.DataFrame'>\n",
      "y.shape=(8123,), type(y)=<class 'pandas.core.series.Series'>\n"
     ]
    }
   ],
   "source": [
    "# Import dataset (1 mark)\n",
    "from yellowbrick.datasets import load_mushroom\n",
    "X, y = load_mushroom()\n",
    "\n",
    "print('X.shape={}, type(X)={}'.format(X.shape, type(X)))\n",
    "print('y.shape={}, type(y)={}'.format(y.shape, type(y)))\n"
   ]
  },
  {
   "cell_type": "code",
   "execution_count": 3,
   "metadata": {},
   "outputs": [
    {
     "name": "stdout",
     "output_type": "stream",
     "text": [
      "<class 'pandas.core.frame.DataFrame'>\n",
      "RangeIndex: 8123 entries, 0 to 8122\n",
      "Data columns (total 3 columns):\n",
      " #   Column   Non-Null Count  Dtype \n",
      "---  ------   --------------  ----- \n",
      " 0   shape    8123 non-null   object\n",
      " 1   surface  8123 non-null   object\n",
      " 2   color    8123 non-null   object\n",
      "dtypes: object(3)\n",
      "memory usage: 190.5+ KB\n"
     ]
    }
   ],
   "source": [
    "# Get information about dataset\n",
    "X.info()"
   ]
  },
  {
   "cell_type": "code",
   "execution_count": 4,
   "metadata": {},
   "outputs": [
    {
     "name": "stdout",
     "output_type": "stream",
     "text": [
      "Class edible has 4208 samples\n",
      "Class poisonous has 3915 samples\n"
     ]
    }
   ],
   "source": [
    "#See if dataset is imbalanced for target vector \n",
    "type_mushroom = set(y.values)\n",
    "for type in type_mushroom: \n",
    "    print(\"Class {} has {} samples\". format(type,(y==type).sum()))"
   ]
  },
  {
   "cell_type": "markdown",
   "id": "20316765",
   "metadata": {},
   "source": [
    "### Questions \n",
    "\n",
    "1. (1 mark) What is the source of your dataset?\n",
    "1. (1 mark) Why did you pick this particular dataset?\n",
    "1. (1 mark) Was there anything challenging about finding a dataset that you wanted to use?\n",
    "\n",
    "*ANSWER HERE*\n",
    "\n",
    "1. The source of my dataset is yellowbrick datasets. https://www.scikit-yb.org/en/latest/api/datasets/mushroom.html\n",
    "2. I picked this dataset because I was interested in working with a classification problem with a dataset that required data pre-processing. I found this dataset interesting and also I was able to understand the dataset. \n",
    "3. The challenge with finding a dataset was deciding what type of supervised learning problem I was interested in and then finding data where I was able to understand what the features meant. There were some datasets that were very complex as they were based off of complex scientific problems.  "
   ]
  },
  {
   "cell_type": "markdown",
   "id": "42fea4cc",
   "metadata": {},
   "source": [
    "## Step 2: Data Processing \n",
    "\n",
    "The next step is to process your data. Implement the following steps as needed."
   ]
  },
  {
   "cell_type": "code",
   "execution_count": 5,
   "id": "afc244d4",
   "metadata": {},
   "outputs": [
    {
     "name": "stdout",
     "output_type": "stream",
     "text": [
      "Number of null values in Feature matrix\n",
      " shape      0\n",
      "surface    0\n",
      "color      0\n",
      "dtype: int64\n",
      "Number of null values in Target 0\n"
     ]
    }
   ],
   "source": [
    "# Clean data (if needed)\n",
    "\n",
    "#Check for missing values - no missing values\n",
    "print(\"Number of null values in Feature matrix\\n\", X.isnull().sum())\n",
    "print(\"Number of null values in Target\",y.isnull().sum())"
   ]
  },
  {
   "cell_type": "code",
   "execution_count": 6,
   "metadata": {},
   "outputs": [
    {
     "name": "stdout",
     "output_type": "stream",
     "text": [
      "    shape surface   color\n",
      "0  convex  smooth  yellow\n",
      "1    bell  smooth   white\n",
      "2  convex   scaly   white\n",
      "3  convex  smooth    gray\n",
      "4  convex   scaly  yellow\n",
      "\n",
      " 0       edible\n",
      "1       edible\n",
      "2    poisonous\n",
      "3       edible\n",
      "4       edible\n",
      "Name: target, dtype: object\n"
     ]
    }
   ],
   "source": [
    "#See what kind of data the feature matrix has\n",
    "print(X.head())\n",
    "print(\"\\n\", y.head())"
   ]
  },
  {
   "cell_type": "code",
   "execution_count": 7,
   "id": "70a8c127",
   "metadata": {},
   "outputs": [
    {
     "name": "stdout",
     "output_type": "stream",
     "text": [
      "Encoded Feature       shape_conical  shape_convex  shape_flat  shape_knobbed  shape_sunken  \\\n",
      "0                 0             1           0              0             0   \n",
      "1                 0             0           0              0             0   \n",
      "2                 0             1           0              0             0   \n",
      "3                 0             1           0              0             0   \n",
      "4                 0             1           0              0             0   \n",
      "...             ...           ...         ...            ...           ...   \n",
      "8118              0             0           0              1             0   \n",
      "8119              0             1           0              0             0   \n",
      "8120              0             0           1              0             0   \n",
      "8121              0             0           0              1             0   \n",
      "8122              0             1           0              0             0   \n",
      "\n",
      "      surface_grooves  surface_scaly  surface_smooth  color_buff  \\\n",
      "0                   0              0               1           0   \n",
      "1                   0              0               1           0   \n",
      "2                   0              1               0           0   \n",
      "3                   0              0               1           0   \n",
      "4                   0              1               0           0   \n",
      "...               ...            ...             ...         ...   \n",
      "8118                0              0               1           0   \n",
      "8119                0              0               1           0   \n",
      "8120                0              0               1           0   \n",
      "8121                0              1               0           0   \n",
      "8122                0              0               1           0   \n",
      "\n",
      "      color_cinnamon  color_gray  color_green  color_pink  color_purple  \\\n",
      "0                  0           0            0           0             0   \n",
      "1                  0           0            0           0             0   \n",
      "2                  0           0            0           0             0   \n",
      "3                  0           1            0           0             0   \n",
      "4                  0           0            0           0             0   \n",
      "...              ...         ...          ...         ...           ...   \n",
      "8118               0           0            0           0             0   \n",
      "8119               0           0            0           0             0   \n",
      "8120               0           0            0           0             0   \n",
      "8121               0           0            0           0             0   \n",
      "8122               0           0            0           0             0   \n",
      "\n",
      "      color_red  color_white  color_yellow  \n",
      "0             0            0             1  \n",
      "1             0            1             0  \n",
      "2             0            1             0  \n",
      "3             0            0             0  \n",
      "4             0            0             1  \n",
      "...         ...          ...           ...  \n",
      "8118          0            0             0  \n",
      "8119          0            0             0  \n",
      "8120          0            0             0  \n",
      "8121          0            0             0  \n",
      "8122          0            0             0  \n",
      "\n",
      "[8123 rows x 17 columns]\n",
      "Encoded Target [0 0 1 ... 0 1 0]\n",
      "Class names in Target ['edible' 'poisonous']\n"
     ]
    }
   ],
   "source": [
    "# Implement preprocessing steps. Remember to use ColumnTransformer if more than one preprocessing method is needed\n",
    "\n",
    "from sklearn.preprocessing import OneHotEncoder\n",
    "from sklearn.preprocessing import LabelEncoder\n",
    "\n",
    "#enc = OneHotEncoder()\n",
    "X_enc = pd.get_dummies(X, drop_first=True)\n",
    "\n",
    "#Label Encoding for Target Vector  \n",
    "enc_label = LabelEncoder()\n",
    "y_enc = enc_label.fit(y).transform(y)\n",
    "\n",
    "print(\"Encoded Feature\", X_enc)\n",
    "print(\"Encoded Target\", y_enc)\n",
    "print(\"Class names in Target\", enc_label.classes_)"
   ]
  },
  {
   "cell_type": "markdown",
   "id": "b92c46b7",
   "metadata": {},
   "source": [
    "### Questions\n",
    "\n",
    "1. (1 mark) Were there any missing/null values in your dataset? If yes, how did you replace them and why? If no, describe how you would've replaced them and why.\n",
    "2. (1 mark) What type of data do you have? What preprocessing methods would you have to apply based on your data types?\n",
    "\n",
    "*ANSWER HERE*\n",
    "\n",
    "1. There are no missing/null values in the dataset. If there are a significant number of values missing, I would drop the column or row based on if it is the column missing most of the values or the data sample. If there are only a few missing values, the mode can be used to replace the missing value. I looked at the statistics of the data to determine what would be the best method to removing missing values. \n",
    "\n",
    "2. The feature matrix and target vector consists of categorial nominal attributes(shape, surface and colour), all object data type. Therefore, the preprocessing method one hot encoding is required to change the string values to numeric values that the machine learning model can use. Target vector is categorical discrete value of edible or poisinous. For target vector, I used Label Encoder since we want the \"edible\" mushroom as the \"0\" negative class and \"poisinous\" mushroom to be \"1\" as the postive class.  "
   ]
  },
  {
   "cell_type": "markdown",
   "id": "2a245d00",
   "metadata": {},
   "source": [
    "## Step 3: Implement Machine Learning Model \n",
    "\n",
    "In this section, you will implement three different supervised learning models (one linear and two non-linear) of your choice. You will use a pipeline to help you decide which model and hyperparameters work best. It is up to you to select what models to use and what hyperparameters to test. You can use the class examples for guidance. You must print out the best model parameters and results after the grid search."
   ]
  },
  {
   "cell_type": "code",
   "execution_count": 8,
   "metadata": {},
   "outputs": [],
   "source": [
    "#Split the data into training and testing sets \n",
    "from sklearn.model_selection import train_test_split\n",
    "\n",
    "X_train, X_test, y_train, y_test = train_test_split(X, y_enc, stratify=y, test_size = 0.2, random_state=42)"
   ]
  },
  {
   "cell_type": "code",
   "execution_count": 9,
   "id": "5558a776",
   "metadata": {},
   "outputs": [],
   "source": [
    "# Implement pipeline and grid search here. Can add more code blocks if necessary\n",
    "\n",
    "from sklearn.pipeline import Pipeline\n",
    "from sklearn.model_selection import GridSearchCV\n",
    "from sklearn.linear_model import LogisticRegression\n",
    "from sklearn.ensemble import RandomForestClassifier\n",
    "from sklearn.svm import SVC\n",
    "from sklearn.metrics import make_scorer, accuracy_score, f1_score\n",
    "\n",
    "\n",
    "#Build Pipeline for each model \n",
    "\n",
    "#Linear Regression\n",
    "lr_pipeline = Pipeline([\n",
    "    ('encoder', OneHotEncoder()), \n",
    "    ('classifier', LogisticRegression(max_iter=1000))\n",
    "])\n",
    "\n",
    "#Non-Linear : Random Forest Classifier\n",
    "rf_pipeline = Pipeline([\n",
    "    ('encoder', OneHotEncoder()), \n",
    "    ('classifier', RandomForestClassifier(random_state=42))\n",
    "])\n",
    "#Non-Linear : Support Vector Machine\n",
    "svm_pipeline = Pipeline([\n",
    "    ('encoder', OneHotEncoder()), \n",
    "    ('classifier', SVC())\n",
    "])\n",
    "\n",
    "# Define parameter grids \n",
    "\n",
    "param_grid_lr = {\n",
    "    'classifier__C': [0.01, 0.1, 1, 10, 100],\n",
    "    'classifier__penalty': ['l1','l2'],  \n",
    "    'classifier__solver': ['liblinear']  \n",
    "}\n",
    "\n",
    "param_grid_rf = {\n",
    "    'classifier__n_estimators': [100, 200, 300],\n",
    "    'classifier__max_depth': [5, 10, 15, 20]\n",
    "}\n",
    "\n",
    "param_grid_svm = {\n",
    "    'classifier__C': [0.1, 1, 10, 100],\n",
    "    'classifier__kernel': ['linear', 'rbf'], \n",
    "    'classifier__gamma': [0.001, 0.01, 0.1] \n",
    "}\n",
    "\n",
    "scoring = {\n",
    "    'accuracy' : make_scorer(accuracy_score),\n",
    "    'f1_score' : make_scorer(f1_score)\n",
    "}\n"
   ]
  },
  {
   "cell_type": "code",
   "execution_count": 10,
   "metadata": {},
   "outputs": [
    {
     "name": "stdout",
     "output_type": "stream",
     "text": [
      "\n",
      "Logistic Regression Results:\n",
      "Best CV Training Accuracy: 0.67\n",
      "Best CV Validation Accuracy: 0.67\n",
      "F1 scores:0.66\n",
      "\n",
      "Best Parameters for Logistic Regression based on F1: {'classifier__C': 0.1, 'classifier__penalty': 'l1', 'classifier__solver': 'liblinear'}\n"
     ]
    }
   ],
   "source": [
    "#Linear Model: Logistic Regression \n",
    "\n",
    "#Create GridSearchCV instance for this model \n",
    "grid_lr = GridSearchCV(lr_pipeline, param_grid_lr, cv=5, scoring=scoring,return_train_score=True, refit='f1_score')\n",
    "\n",
    "#Fit the model to the training set \n",
    "grid_lr.fit(X_train, y_train)\n",
    "\n",
    "#Determine the best parameters and cv results from the grid search \n",
    "best_params_lr = grid_lr.best_params_\n",
    "results_lr = grid_lr.cv_results_\n",
    "\n",
    "print(\"\\nLogistic Regression Results:\")\n",
    "print(\"Best CV Training Accuracy: {:.2f}\".format(results_lr['mean_train_accuracy'].max()))\n",
    "print(\"Best CV Validation Accuracy: {:.2f}\".format(results_lr['mean_test_accuracy'].max()))\n",
    "print(\"F1 scores:{:.2f}\".format(results_lr['mean_test_f1_score'].max()))\n",
    "print(\"\\nBest Parameters for Logistic Regression based on F1:\", best_params_lr)\n"
   ]
  },
  {
   "cell_type": "code",
   "execution_count": 11,
   "metadata": {},
   "outputs": [
    {
     "name": "stdout",
     "output_type": "stream",
     "text": [
      "\n",
      "Random Forest Results:\n",
      "Best CV Training Accuracy: 0.72\n",
      "Best CV Validation Accuracy: 0.72\n",
      "F1 scores:0.72\n",
      "\n",
      "Best Parameters for Random Forest based on F1: {'classifier__max_depth': 5, 'classifier__n_estimators': 100}\n"
     ]
    }
   ],
   "source": [
    "#Non-Linear Model: Random Forest \n",
    "\n",
    "#Create GridSearchCV instance for this model \n",
    "grid_rf = GridSearchCV(rf_pipeline, param_grid_rf, cv=5, scoring=scoring,return_train_score=True, refit='f1_score')\n",
    "\n",
    "#Fit the model to the training set \n",
    "grid_rf.fit(X_train, y_train)\n",
    "\n",
    "#Determine the best parameters and cv results from the grid search \n",
    "best_params_rf = grid_rf.best_params_\n",
    "results_rf = grid_rf.cv_results_\n",
    "\n",
    "print(\"\\nRandom Forest Results:\")\n",
    "print(\"Best CV Training Accuracy: {:.2f}\".format(results_rf['mean_train_accuracy'].max()))\n",
    "print(\"Best CV Validation Accuracy: {:.2f}\".format(results_rf['mean_test_accuracy'].max()))\n",
    "print(\"F1 scores:{:.2f}\".format(results_rf['mean_test_f1_score'].max()))\n",
    "print(\"\\nBest Parameters for Random Forest based on F1:\", best_params_rf)\n"
   ]
  },
  {
   "cell_type": "code",
   "execution_count": 12,
   "metadata": {},
   "outputs": [
    {
     "name": "stdout",
     "output_type": "stream",
     "text": [
      "\n",
      "SVM Results:\n",
      "Best CV Training Accuracy: 0.72\n",
      "Best CV Validation Accuracy: 0.72\n",
      "F1 scores:0.71\n",
      "\n",
      "Best Parameters for SVM based on F1: {'classifier__C': 100, 'classifier__gamma': 0.1, 'classifier__kernel': 'rbf'}\n"
     ]
    }
   ],
   "source": [
    "#Non-Linear Model: Support Vector Machine\n",
    "\n",
    "grid_svm = GridSearchCV(svm_pipeline, param_grid_svm, cv=5, scoring=scoring,return_train_score=True, refit='f1_score')\n",
    "grid_svm.fit(X_train, y_train)\n",
    "best_params_svm = grid_svm.best_params_\n",
    "results_svm = grid_svm.cv_results_\n",
    "\n",
    "print(\"\\nSVM Results:\")\n",
    "print(\"Best CV Training Accuracy: {:.2f}\".format(results_svm['mean_train_accuracy'].max()))\n",
    "print(\"Best CV Validation Accuracy: {:.2f}\".format(results_svm['mean_test_accuracy'].max()))\n",
    "print(\"F1 scores:{:.2f}\".format(results_svm['mean_test_f1_score'].max()))  \n",
    "print(\"\\nBest Parameters for SVM based on F1:\", best_params_svm)"
   ]
  },
  {
   "cell_type": "markdown",
   "id": "3dbd7075",
   "metadata": {},
   "source": [
    "### Questions\n",
    "\n",
    "1. (1 mark) Do you need regression or classification models for your dataset?\n",
    "1. (2 marks) Which models did you select for testing and why?\n",
    "1. (2 marks) Which model worked the best? Does this make sense based on the theory discussed in the course and the context of your dataset?\n",
    "\n",
    "*ANSWER HERE*\n",
    "\n",
    "1. This dataset's target matrix is a categorical discrete value(1 for poisinous, 0 for edible) so we are interested in predicting a discrete value. Therefore, classification model is needed. \n",
    "2. \n",
    "    For the linear model, I picked Logistic regression. For the following reasons:\n",
    "    -  this is a simple and widely used method which is easy to understand as the decision boundary is linear. It is a good place to start.\n",
    "    -  it is possible to regularize this model to prevent overfitting. So we can tune the model based on C value. \n",
    "\n",
    "   For non-linear models. I picked Random forest and Support vector machines.\n",
    "\n",
    "   I picked Random Forest because\n",
    "    - it is an ensemble method so creates multiple trees to predict the results. This prevents overfitting and allows to achieve better results than decision tree\n",
    "    - gradient boosting outputs better results but takes longer to train the model so it is a better idea to start wiht random forest. \n",
    "    - able to capture complex relationships \n",
    "    \n",
    "   I picked  Support Vector Machine because\n",
    "    - they are effective in high dimensional spaces, and work well with many features or limited features.\n",
    "    - use non-linear decision boundary \n",
    "    - require careful tuning - can implement tuning while using grid search \n",
    "\n",
    "    Since we only looked at two non-linear models, I chose two models that are common and are known to perform well with classification problems but perform very differently to get an idea of which type of model works for this dataset. \n",
    "\n",
    "3. The model that worked the best was Random Forest where the training, validation and f1-score was the highest (around 0.72 for all). Yes, this aligns with what was discusssed in class and with the context of the dataset. \n",
    "This dataset gave better results for the non-linear models in comparison to the linear model so adding the complexity in model resulted in better results. This indicates the dataset is more suited for a non-linear model then linear.  Also, it was learnt in class that support vector machines are more sensitive to tuning hyperparameters then random forest. This could indicate why random forest performed better. There could be certain ranges of the support vector machine that have not been identified. "
   ]
  },
  {
   "cell_type": "markdown",
   "id": "3f994e31",
   "metadata": {},
   "source": [
    "## Step 4: Validate Model \n",
    "\n",
    "Use the testing set to calculate the testing accuracy for the best model determined in Step 3."
   ]
  },
  {
   "cell_type": "code",
   "execution_count": 13,
   "id": "69e64c08",
   "metadata": {},
   "outputs": [
    {
     "name": "stdout",
     "output_type": "stream",
     "text": [
      "Best Model Used:\n",
      " Pipeline(steps=[('encoder', OneHotEncoder()),\n",
      "                ('classifier',\n",
      "                 RandomForestClassifier(max_depth=5, random_state=42))])\n",
      "Testing Accuracy: 0.6750769230769231\n",
      "Test f1 Score: 0.7040358744394619\n",
      "\n",
      "Classification Report:\n",
      "               precision    recall  f1-score   support\n",
      "\n",
      "           0       0.75      0.56      0.64       842\n",
      "           1       0.63      0.80      0.70       783\n",
      "\n",
      "    accuracy                           0.68      1625\n",
      "   macro avg       0.69      0.68      0.67      1625\n",
      "weighted avg       0.69      0.68      0.67      1625\n",
      "\n"
     ]
    }
   ],
   "source": [
    "# Calculate testing accuracy (1 mark)\n",
    "from sklearn.metrics import classification_report\n",
    "\n",
    "#Retrain model with best model determined from grid search \n",
    "best_model = grid_rf.best_estimator_\n",
    "best_model.fit(X_train, y_train)\n",
    "\n",
    "#Make predictions using test set on best model\n",
    "y_pred = best_model.predict(X_test)\n",
    "\n",
    "#Calculate accuracy and f1 score on the test set\n",
    "accuracy = accuracy_score(y_test, y_pred)\n",
    "f1 = f1_score(y_test, y_pred)\n",
    "\n",
    "#Create Classification Report \n",
    "report = classification_report(y_test, y_pred)\n",
    "\n",
    "print(\"Best Model Used:\\n\", grid_rf.best_estimator_)\n",
    "print(\"Testing Accuracy:\", accuracy)\n",
    "print(\"Test f1 Score:\", f1)\n",
    "print(\"\\nClassification Report:\\n\",report)\n"
   ]
  },
  {
   "cell_type": "code",
   "execution_count": 14,
   "metadata": {},
   "outputs": [
    {
     "data": {
      "text/plain": [
       "Text(0.5, 1.0, 'Confusion Matrix for edible vs poisonous mushrooms')"
      ]
     },
     "execution_count": 14,
     "metadata": {},
     "output_type": "execute_result"
    },
    {
     "data": {
      "image/png": "[encoded data removed]",
      "text/plain": [
       "<Figure size 800x550 with 2 Axes>"
      ]
     },
     "metadata": {},
     "output_type": "display_data"
    }
   ],
   "source": [
    "from sklearn.metrics import confusion_matrix\n",
    "#Create Confusion matrix \n",
    "mat = confusion_matrix(y_test, y_pred)\n",
    "\n",
    "labels=['edible','poisonous']\n",
    "sns.heatmap(mat,xticklabels=labels,  yticklabels=labels, square=True, annot=True, fmt='g')\n",
    "plt.xlabel('predicted value')\n",
    "plt.ylabel('true value')\n",
    "plt.title(\"Confusion Matrix for edible vs poisonous mushrooms\")"
   ]
  },
  {
   "cell_type": "markdown",
   "id": "1e4529ba",
   "metadata": {},
   "source": [
    "\n",
    "### Questions \n",
    "\n",
    "1. (1 mark) Which accuracy metric did you choose? \n",
    "1. (1 mark) How do these results compare to those in part 3? Did this model generalize well?\n",
    "1. (3 marks) Based on your results and the context of your dataset, did the best model perform \"well enough\" to be used out in the real-world? Why or why not? Do you have any suggestions for how you could improve this analysis?\n",
    "\n",
    "*ANSWER HERE*\n",
    "\n",
    "1. I used the f1-score in combination with the confusion matrix as the accuracy metric. As the accuracy score alone doesn't represent the model prediction capabilities as we don't know if it is predicting more of the positive or negative class. \n",
    "\n",
    "2. The training, validation and f1-score accuracy in part three are both around 0.72 which indicates the model is underfitting. The testing accuracy is slightly lower of 0.68 and the f1-score is 0.7. Since the testing accuracy score and f1-score is slightly lower then the training/validation score that is fairly similar it means the model generalizes relatively well. \n",
    "\n",
    "3. No, the model didn't perform well enough to be used in the real world. This is because we would want to increase the recall and reduce the false negatives to zero(mushrooms predicted as edible but are poisonous). We wouldn't want poisonous mushrooms to be predicted as edible. Looking at the confusion matrix the number of false negatives are 155 which is a lot. For real-world, we would want a model to have zero FN.  \n",
    "\n",
    "Analysis can be improved by the possible suggestions: \n",
    "- use different machine learning models \n",
    "- adjusting the hyperparameters selected\n",
    "- increase the number of cross validation folds\n",
    "- adjust the threshold - decrease the threshold "
   ]
  },
  {
   "cell_type": "markdown",
   "id": "37b238f4",
   "metadata": {},
   "source": [
    "## Process Description \n",
    "Please describe the process you used to create your code. Cite any websites or generative AI tools used. You can use the following questions as guidance:\n",
    "1. Where did you source your code?\n",
    "1. In what order did you complete the steps?\n",
    "1. If you used generative AI, what prompts did you use? Did you need to modify the code at all? Why or why not?\n",
    "1. Did you have any challenges? If yes, what were they? If not, what helped you to be successful?"
   ]
  },
  {
   "cell_type": "markdown",
   "id": "93097bfe",
   "metadata": {},
   "source": [
    "*DESCRIBE YOUR PROCESS HERE*\n",
    "\n",
    "1. I sourced my code from the jupyter notebooks from the examples presented during class and the lab actvities. I also referenced the textbook recommended for this class.   \n",
    "2. Before starting the assignmnent, I reviewed class notes and lab notebooks. I read over the whole assignment and then looked for a dataset. Then, I followed the steps in the same order listed in the assignment. \n",
    "3. I didn't use generative AI for this assignment. \n",
    "4. Yes, I had some challenges with the results from the grid search. It was a bit tricky to figure out that the scaling and encoding was correctly applied to the features when using the grid search and piplines since we cannot see what is inside. "
   ]
  },
  {
   "cell_type": "markdown",
   "id": "cd97b6ac",
   "metadata": {},
   "source": [
    "## Reflection \n",
    "Include a sentence or two about:\n",
    "- what you liked or disliked,\n",
    "- found interesting, confusing, challenging, motivating\n",
    "while working on this assignment.\n",
    "\n",
    "\n",
    "*ADD YOUR THOUGHTS HERE*\n",
    "\n",
    "It was interesting to see what kind of datasets are avaliable when looking for a dataset. I found it enjoyable to work on analyzing a dataset from beginning to end using what we have learned in class. Also, I enjoyed using the grid search to play around with the hyperparameters to tune the model.  "
   ]
  },
  {
   "cell_type": "code",
   "execution_count": null,
   "id": "241c3b12",
   "metadata": {},
   "outputs": [],
   "source": []
  }
 ],
 "metadata": {
  "kernelspec": {
   "display_name": "Python 3 (ipykernel)",
   "language": "python",
   "name": "python3"
  },
  "language_info": {
   "codemirror_mode": {
    "name": "ipython",
    "version": 3
   },
   "file_extension": ".py",
   "mimetype": "text/x-python",
   "name": "python",
   "nbconvert_exporter": "python",
   "pygments_lexer": "ipython3",
   "version": "3.10.9"
  }
 },
 "nbformat": 4,
 "nbformat_minor": 5
}
